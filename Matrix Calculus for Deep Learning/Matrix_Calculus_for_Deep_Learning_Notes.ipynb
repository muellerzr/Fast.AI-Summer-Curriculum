{
  "nbformat": 4,
  "nbformat_minor": 0,
  "metadata": {
    "colab": {
      "name": "Matrix Calculus for Deep Learning Notes.ipynb",
      "version": "0.3.2",
      "provenance": [],
      "collapsed_sections": [
        "0ttCjx1ij4H3",
        "q1l-lO1WkAza"
      ]
    },
    "kernelspec": {
      "name": "python3",
      "display_name": "Python 3"
    }
  },
  "cells": [
    {
      "cell_type": "markdown",
      "metadata": {
        "id": "jYmDJ4JLc8A_",
        "colab_type": "text"
      },
      "source": [
        "# Notes on Terence Parr and Jeremy Howard's Matrix Calculus Course\n",
        "\n",
        "---\n",
        "\n"
      ]
    },
    {
      "cell_type": "markdown",
      "metadata": {
        "id": "23RD9NexdJ1b",
        "colab_type": "text"
      },
      "source": [
        "The goal of these notes is to blend the math and the coding together so the concepts make sense, we understand the math, and I get stronger at going from code to math, and math to code"
      ]
    },
    {
      "cell_type": "markdown",
      "metadata": {
        "id": "XbHGqfB9WbgG",
        "colab_type": "text"
      },
      "source": [
        "## Introduction\n",
        "\n",
        "---\n",
        "\n",
        "\n",
        "\n",
        "* The activation of a single unit in a neural net is done using dot product of an edge weight vector, **w**, with an input vector **x** plus a scalar bias (*b*)\n",
        "\n",
        "* Also known as y = mx+b\n",
        "\n",
        "![alt text](https://explained.ai/matrix-calculus/images/eqn-EEDCFA4252D0992243A283CE0EB777A6-depth003.31.svg)\n",
        "\n",
        "Where n, i is how many layers we have. Can also be written as:"
      ]
    },
    {
      "cell_type": "code",
      "metadata": {
        "id": "C4jFySslWYfO",
        "colab_type": "code",
        "colab": {}
      },
      "source": [
        "z = w * x + b"
      ],
      "execution_count": 0,
      "outputs": []
    },
    {
      "cell_type": "markdown",
      "metadata": {
        "id": "joMljb6NXaeo",
        "colab_type": "text"
      },
      "source": [
        "z is the unit's 'affine function' (linear function), is followed by a linear unit that clips negative values to zero."
      ]
    },
    {
      "cell_type": "markdown",
      "metadata": {
        "id": "nBqSD-mBXoxy",
        "colab_type": "text"
      },
      "source": [
        "![alt text](https://explained.ai/matrix-calculus/images/neuron.png =250x)\n"
      ]
    },
    {
      "cell_type": "markdown",
      "metadata": {
        "id": "PGqIqm_bYOQE",
        "colab_type": "text"
      },
      "source": [
        "Each unit is a layer, where the activation of one unit is the input to the next layer's unit. \n",
        "\n",
        "* Training = choosing **w** and **b** so we get a desired output for all *n* inputs **x**\n",
        "\n",
        "We need a loss function to 'grade' the final **activation(x)** with the **target(x) **for all inputs.\n",
        "\n",
        "To minimize we use some variation on gradient decent. All require partial derivitive (gradient) of ***activation*** **(x)** with respect ot **w** and *b*.\n",
        "\n",
        "Goal: Gradually tweak **w** and *b* so the loss gets close to zero."
      ]
    },
    {
      "cell_type": "markdown",
      "metadata": {
        "id": "b36JdYz8Zaou",
        "colab_type": "text"
      },
      "source": [
        "We can derive the gradient by differentiating (getting the derivitive) the scalar version of a loss function, MSE\n",
        "\n",
        "![alt text](https://explained.ai/matrix-calculus/images/blkeqn-A129949CD1EF7BE2CA8BD424D34F9930.svg)"
      ]
    },
    {
      "cell_type": "markdown",
      "metadata": {
        "id": "saOkY8t2ZybR",
        "colab_type": "text"
      },
      "source": [
        "In code:\n",
        "\n",
        "The original:"
      ]
    },
    {
      "cell_type": "code",
      "metadata": {
        "id": "HlDm7W3vZxS7",
        "colab_type": "code",
        "colab": {}
      },
      "source": [
        "def loss(N):\n",
        "  y = 0\n",
        "  for x in range(N):\n",
        "    y += (targ(x) - actv(x))**2\n",
        "  return y/N"
      ],
      "execution_count": 0,
      "outputs": []
    },
    {
      "cell_type": "markdown",
      "metadata": {
        "id": "LYXjRs19abtB",
        "colab_type": "text"
      },
      "source": [
        "The derivitive"
      ]
    },
    {
      "cell_type": "code",
      "metadata": {
        "id": "-5cJ5va0ansn",
        "colab_type": "code",
        "colab": {}
      },
      "source": [
        "def grad(N, w, b):\n",
        "  y = 0\n",
        "  for x in range(N):\n",
        "    y += (targ(x) - actf(x))**2\n",
        "  return y/N\n",
        "\n",
        "def actf(x, w, b):\n",
        "  y = 0\n",
        "  for i in range(abs(x)):\n",
        "    y += (w[i] * x[i] + b)\n",
        "  return max(0, y)"
      ],
      "execution_count": 0,
      "outputs": []
    },
    {
      "cell_type": "markdown",
      "metadata": {
        "id": "j8Aug84WbcfX",
        "colab_type": "text"
      },
      "source": [
        "Where **w** is a weight matrix, **x** is our input matrix, **b** is a bias"
      ]
    },
    {
      "cell_type": "markdown",
      "metadata": {
        "id": "Tbt6FrkTdwLL",
        "colab_type": "text"
      },
      "source": [
        "## Review: Scalar derivative rules\n",
        "\n",
        "---\n",
        "\n",
        "![alt text](https://i.imgur.com/VCZxHC9.png)\n",
        "\n",
        "\n",
        "\n"
      ]
    },
    {
      "cell_type": "markdown",
      "metadata": {
        "id": "OrZYH7VcfLlh",
        "colab_type": "text"
      },
      "source": [
        "**Explaination:**\n",
        "\n",
        "* **Power Rule**: Take the power, drop it in front (multiply it by the number in front), and reduce it by one\n",
        "\n",
        "* **Sum Rule**: Take the derivative for f(x) and g(x), and sum them together\n",
        "\n",
        "* **Difference Rule**:  Take the derivative for f(x) and g(x), and subtract them\n",
        "\n",
        "* **Product Rule**: Given f(x) and g(x), the derivitive of f*g is the derivative of f(x), multiplied by g(x), summed with f(x) multiplied by the derivative of g(x)\n",
        "\n",
        "     ![alt text](https://i.imgur.com/KVE8rHY.png)\n",
        "     \n",
        "* **Chain Rule**: Used for composite functions, we start from the inner-most function, and work our way out.\n",
        "\n",
        "    ![alt_text](https://i.imgur.com/oTfTTpA.png)"
      ]
    },
    {
      "cell_type": "markdown",
      "metadata": {
        "id": "FNgUEebih87r",
        "colab_type": "text"
      },
      "source": [
        "## In Code:"
      ]
    },
    {
      "cell_type": "markdown",
      "metadata": {
        "id": "0ttCjx1ij4H3",
        "colab_type": "text"
      },
      "source": [
        "### Power:"
      ]
    },
    {
      "cell_type": "code",
      "metadata": {
        "id": "0zZtKKkaikbC",
        "colab_type": "code",
        "colab": {}
      },
      "source": [
        "from sympy import *\n",
        "import numpy as np"
      ],
      "execution_count": 0,
      "outputs": []
    },
    {
      "cell_type": "markdown",
      "metadata": {
        "id": "12XMIl0KiyGn",
        "colab_type": "text"
      },
      "source": [
        "Symbol creates a variable of 'symbol' type"
      ]
    },
    {
      "cell_type": "code",
      "metadata": {
        "id": "NOhdmJJfimlj",
        "colab_type": "code",
        "colab": {
          "base_uri": "https://localhost:8080/",
          "height": 34
        },
        "outputId": "dcf28936-cfe8-4617-903a-6b6b71e95437"
      },
      "source": [
        "x = Symbol('x'); x"
      ],
      "execution_count": 4,
      "outputs": [
        {
          "output_type": "execute_result",
          "data": {
            "text/plain": [
              "x"
            ]
          },
          "metadata": {
            "tags": []
          },
          "execution_count": 4
        }
      ]
    },
    {
      "cell_type": "code",
      "metadata": {
        "id": "xiWnjwcri1Xc",
        "colab_type": "code",
        "colab": {}
      },
      "source": [
        "y = 3*x**2"
      ],
      "execution_count": 0,
      "outputs": []
    },
    {
      "cell_type": "code",
      "metadata": {
        "id": "GgPFE0_6jE7T",
        "colab_type": "code",
        "colab": {}
      },
      "source": [
        "yprime = y.diff(x)"
      ],
      "execution_count": 0,
      "outputs": []
    },
    {
      "cell_type": "code",
      "metadata": {
        "id": "PLGk0rzEjIKx",
        "colab_type": "code",
        "colab": {
          "base_uri": "https://localhost:8080/",
          "height": 34
        },
        "outputId": "e2d8dcc4-cedc-4426-9e37-5ccd444c6f5f"
      },
      "source": [
        "yprime"
      ],
      "execution_count": 8,
      "outputs": [
        {
          "output_type": "execute_result",
          "data": {
            "text/plain": [
              "6*x"
            ]
          },
          "metadata": {
            "tags": []
          },
          "execution_count": 8
        }
      ]
    },
    {
      "cell_type": "code",
      "metadata": {
        "id": "sUxMR9qgjInl",
        "colab_type": "code",
        "colab": {}
      },
      "source": [
        "def getDir(y):\n",
        "  x = Symbol('x')\n",
        "  return y.diff(x)"
      ],
      "execution_count": 0,
      "outputs": []
    },
    {
      "cell_type": "code",
      "metadata": {
        "id": "01YcHUvBjT51",
        "colab_type": "code",
        "colab": {
          "base_uri": "https://localhost:8080/",
          "height": 34
        },
        "outputId": "66c2aebb-309b-4ee6-9664-205cf723899f"
      },
      "source": [
        "getDir(y=3*x**2)"
      ],
      "execution_count": 16,
      "outputs": [
        {
          "output_type": "execute_result",
          "data": {
            "text/plain": [
              "6*x"
            ]
          },
          "metadata": {
            "tags": []
          },
          "execution_count": 16
        }
      ]
    },
    {
      "cell_type": "code",
      "metadata": {
        "id": "1ryDH4AdjWeF",
        "colab_type": "code",
        "colab": {}
      },
      "source": [
        "w"
      ],
      "execution_count": 0,
      "outputs": []
    },
    {
      "cell_type": "markdown",
      "metadata": {
        "id": "q1l-lO1WkAza",
        "colab_type": "text"
      },
      "source": [
        "### Product"
      ]
    },
    {
      "cell_type": "code",
      "metadata": {
        "id": "C7DeHrl4kOAX",
        "colab_type": "code",
        "colab": {}
      },
      "source": [
        "fx = 3*x**2\n",
        "gx = 4*x**2"
      ],
      "execution_count": 0,
      "outputs": []
    },
    {
      "cell_type": "code",
      "metadata": {
        "id": "PSesoPsTkjWF",
        "colab_type": "code",
        "colab": {}
      },
      "source": [
        "x = Symbol('x')"
      ],
      "execution_count": 0,
      "outputs": []
    },
    {
      "cell_type": "code",
      "metadata": {
        "id": "BgWo5Uvuklj4",
        "colab_type": "code",
        "colab": {
          "base_uri": "https://localhost:8080/",
          "height": 34
        },
        "outputId": "93bad5c0-4f51-407d-b9aa-c07afa1ed623"
      },
      "source": [
        "(fx.diff(x) * gx) + (fx * gx.diff(x))"
      ],
      "execution_count": 21,
      "outputs": [
        {
          "output_type": "execute_result",
          "data": {
            "text/plain": [
              "48*x**3"
            ]
          },
          "metadata": {
            "tags": []
          },
          "execution_count": 21
        }
      ]
    },
    {
      "cell_type": "markdown",
      "metadata": {
        "id": "urIIVloKk9zf",
        "colab_type": "text"
      },
      "source": [
        "### Chain"
      ]
    },
    {
      "cell_type": "code",
      "metadata": {
        "id": "QtVxqdbWlETW",
        "colab_type": "code",
        "colab": {}
      },
      "source": [
        "x = Symbol('x')"
      ],
      "execution_count": 0,
      "outputs": []
    },
    {
      "cell_type": "code",
      "metadata": {
        "id": "AiL-6WQlkvum",
        "colab_type": "code",
        "colab": {}
      },
      "source": [
        "fx = 3*x**2\n",
        "gx = 4*x**2"
      ],
      "execution_count": 0,
      "outputs": []
    },
    {
      "cell_type": "code",
      "metadata": {
        "id": "xdgTYEisl1Js",
        "colab_type": "code",
        "colab": {
          "base_uri": "https://localhost:8080/",
          "height": 34
        },
        "outputId": "7c534480-7272-497e-8825-ab2f872e556c"
      },
      "source": [
        "fd = getDir(fx); fd"
      ],
      "execution_count": 38,
      "outputs": [
        {
          "output_type": "execute_result",
          "data": {
            "text/plain": [
              "6*x"
            ]
          },
          "metadata": {
            "tags": []
          },
          "execution_count": 38
        }
      ]
    },
    {
      "cell_type": "code",
      "metadata": {
        "id": "XvhXloiqmHj4",
        "colab_type": "code",
        "colab": {
          "base_uri": "https://localhost:8080/",
          "height": 34
        },
        "outputId": "2ec2c6d8-1636-46d7-dba3-80ffeee1df07"
      },
      "source": [
        "gd = getDir(gx); gd"
      ],
      "execution_count": 39,
      "outputs": [
        {
          "output_type": "execute_result",
          "data": {
            "text/plain": [
              "8*x"
            ]
          },
          "metadata": {
            "tags": []
          },
          "execution_count": 39
        }
      ]
    },
    {
      "cell_type": "code",
      "metadata": {
        "id": "qqDJpqd9mzKp",
        "colab_type": "code",
        "colab": {}
      },
      "source": [
        "def fx(x):\n",
        "  return 3*x**2\n",
        "def gx(x):\n",
        "  return 4*x**2\n",
        "\n",
        "def fd(x):\n",
        "  return 6*x\n",
        "def gd(x):\n",
        "  return 8*x"
      ],
      "execution_count": 0,
      "outputs": []
    },
    {
      "cell_type": "code",
      "metadata": {
        "id": "nKYOEdWinTbM",
        "colab_type": "code",
        "colab": {
          "base_uri": "https://localhost:8080/",
          "height": 34
        },
        "outputId": "179a913e-251a-4467-b97c-334d548219f4"
      },
      "source": [
        "fd(gx(2))*gd(2)"
      ],
      "execution_count": 47,
      "outputs": [
        {
          "output_type": "execute_result",
          "data": {
            "text/plain": [
              "1536"
            ]
          },
          "metadata": {
            "tags": []
          },
          "execution_count": 47
        }
      ]
    },
    {
      "cell_type": "code",
      "metadata": {
        "id": "oQZhI_vZnbq0",
        "colab_type": "code",
        "colab": {}
      },
      "source": [
        ""
      ],
      "execution_count": 0,
      "outputs": []
    }
  ]
}
