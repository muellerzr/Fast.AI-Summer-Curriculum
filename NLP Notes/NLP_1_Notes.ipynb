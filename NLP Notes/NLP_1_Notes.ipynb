{
  "nbformat": 4,
  "nbformat_minor": 0,
  "metadata": {
    "colab": {
      "name": "NLP-1 Notes.ipynb",
      "version": "0.3.2",
      "provenance": []
    },
    "kernelspec": {
      "name": "python3",
      "display_name": "Python 3"
    }
  },
  "cells": [
    {
      "cell_type": "markdown",
      "metadata": {
        "id": "08kdRqec7LVv",
        "colab_type": "text"
      },
      "source": [
        "# What is NLP\n",
        "\n",
        "* Part-of-speech tagging\n",
        "    * Noun, verb, adj, etc\n",
        "* Named Entity Recognition (NER):\n",
        "    * Identify names, organizations, locations, medical codes,\n",
        "    times, monetary values, etc\n",
        "* Question answering\n",
        "* Speech recognition\n",
        "* Text to speech and backwards\n",
        "* **Topic modeling?**\n",
        "* **Sentiment classification**\n",
        "* **Language modeling**\n",
        "* **Translation**"
      ]
    },
    {
      "cell_type": "markdown",
      "metadata": {
        "id": "qWvF5ngT8IxT",
        "colab_type": "text"
      },
      "source": [
        "## Case Study: Spell Checkers\n",
        "\n",
        "Peter Norvig:\n",
        "\n",
        "![alt text](https://raw.githubusercontent.com/fastai/course-nlp/e66cc0c5b393212d82aa548c4e1f4e54fcec824b/images/spellchecker1.png)\n",
        "\n",
        "![alt text](https://raw.githubusercontent.com/fastai/course-nlp/e66cc0c5b393212d82aa548c4e1f4e54fcec824b/images/spellchecker2.png)\n"
      ]
    },
    {
      "cell_type": "markdown",
      "metadata": {
        "id": "VIjtserX8Upl",
        "colab_type": "text"
      },
      "source": [
        "The second takes in historical data and probabilities"
      ]
    },
    {
      "cell_type": "markdown",
      "metadata": {
        "id": "rl_fgIGZ87ic",
        "colab_type": "text"
      },
      "source": [
        "## NLP Tools\n",
        "\n",
        "* Regex\n",
        "* Tokenization: splitting text into meaningful units\n",
        "* Word embeddings\n",
        "* Linear algebra/matrix decomposition\n",
        "* Neural networks\n",
        "* Hidden Markov Models\n",
        "* Parse Trees"
      ]
    },
    {
      "cell_type": "markdown",
      "metadata": {
        "id": "MLTKTFgl9NUL",
        "colab_type": "text"
      },
      "source": [
        "Example from http://damir.cavar.me/charty/python/\n",
        "\n",
        "Given: 'she killed the man with the tie'\n",
        "\n",
        "<img src=\"http://damir.cavar.me/charty/python/files/structural-ambiguity1.png\" width=\"350\" height=\"300\" />"
      ]
    },
    {
      "cell_type": "markdown",
      "metadata": {
        "id": "daTBzSNt-QbC",
        "colab_type": "text"
      },
      "source": [
        "* **NP:** Noun phrase\n",
        "* **VP:** Verb phrase\n",
        "* **PP:** Prepositional phrase"
      ]
    },
    {
      "cell_type": "markdown",
      "metadata": {
        "id": "WBeaZspv-v2t",
        "colab_type": "text"
      },
      "source": [
        "## Python Libraries"
      ]
    },
    {
      "cell_type": "markdown",
      "metadata": {
        "id": "JjCvO8j5-x-S",
        "colab_type": "text"
      },
      "source": [
        "* [nltk](https://www.nltk.org/): 2001, very broad NLP library\n",
        "* [spaCy](https://spacy.io/): Generates parse trees, excellent tokenizer (Fast.AI)\n",
        "* [gensim](https://radimrehurek.com/gensim/): Topic modeling and similarity Detection\n",
        "\n",
        "Very specialized tools:\n",
        "\n",
        "* [PyText](https://pytext-pytext.readthedocs-hosted.com/en/latest/)\n",
        "* [fastText](https://fasttext.cc/): A library of embeddings, Facebook\n",
        "\n",
        "General ML/DL Libraries:\n",
        "* [sklearn](https://scikit-learn.org/stable/): General purpose ML library\n",
        "* [fastai](https://docs.fast.ai/): Fast & accurate NN's using modern best practices, sits ontop of PyTorch"
      ]
    },
    {
      "cell_type": "markdown",
      "metadata": {
        "id": "D7ut_POi_y_v",
        "colab_type": "text"
      },
      "source": [
        "## Ethical Issues\n",
        "\n",
        "\n",
        "Gender Bias:\n",
        "\n",
        "![alt text](https://github.com/fastai/course-nlp/raw/e66cc0c5b393212d82aa548c4e1f4e54fcec824b/images/google-translate.png)"
      ]
    },
    {
      "cell_type": "code",
      "metadata": {
        "id": "mKqVIbYQ7Gs2",
        "colab_type": "code",
        "colab": {}
      },
      "source": [
        ""
      ],
      "execution_count": 0,
      "outputs": []
    }
  ]
}