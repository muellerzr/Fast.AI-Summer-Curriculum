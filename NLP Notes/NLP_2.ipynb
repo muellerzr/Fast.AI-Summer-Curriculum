{
  "nbformat": 4,
  "nbformat_minor": 0,
  "metadata": {
    "colab": {
      "name": "NLP-2.ipynb",
      "version": "0.3.2",
      "provenance": []
    },
    "kernelspec": {
      "name": "python3",
      "display_name": "Python 3"
    },
    "accelerator": "GPU"
  },
  "cells": [
    {
      "cell_type": "markdown",
      "metadata": {
        "id": "24ZSHg77Axtx",
        "colab_type": "text"
      },
      "source": [
        "# Topic Modeling with NMF and SVD\n",
        "\n",
        "* **NMF:** Non-Negative Matrix Factorization\n",
        "* **SVD:** Single Value Decomposition"
      ]
    },
    {
      "cell_type": "markdown",
      "metadata": {
        "id": "SeMffqsuBMwT",
        "colab_type": "text"
      },
      "source": [
        "## The problem:\n",
        "\n",
        "Topic modeling startis with a **term-document matrix**\n",
        "\n",
        "![alt text](https://github.com/fastai/course-nlp/raw/e66cc0c5b393212d82aa548c4e1f4e54fcec824b/images/document_term.png)"
      ]
    },
    {
      "cell_type": "markdown",
      "metadata": {
        "id": "a4Xc_yZcBTRc",
        "colab_type": "text"
      },
      "source": [
        "This is a **bag of words** approach, does not take into account word order or sentence structure. \n",
        "\n",
        "Latent Systematic Analysis (LSA) uses SVD"
      ]
    },
    {
      "cell_type": "markdown",
      "metadata": {
        "id": "HUJYzYAPCT04",
        "colab_type": "text"
      },
      "source": [
        "## Getting Started\n",
        "\n",
        "A dataset of documents from several categories, and attempt to find topics (groups of words) for them. We will try SVD and NMF"
      ]
    },
    {
      "cell_type": "markdown",
      "metadata": {
        "id": "hePYwl6GCd0L",
        "colab_type": "text"
      },
      "source": [
        "### Libraries"
      ]
    },
    {
      "cell_type": "code",
      "metadata": {
        "id": "JKcZ_X86Aq_A",
        "colab_type": "code",
        "colab": {}
      },
      "source": [
        "import numpy as np\n",
        "from sklearn.datasets import fetch_20newsgroups\n",
        "from sklearn import decomposition\n",
        "from scipy import linalg\n",
        "import matplotlib.pyplot as plt\n",
        "np.set_printoptions(suppress=True)"
      ],
      "execution_count": 0,
      "outputs": []
    },
    {
      "cell_type": "markdown",
      "metadata": {
        "id": "ngkx6iB6Cwi7",
        "colab_type": "text"
      },
      "source": [
        "### Looking at the data\n",
        "\n",
        "The dataset is Newsgroups, discussion groups on Usenet. Includes 18,000 posts with 20 topics. Popular in the 80's and 90's"
      ]
    },
    {
      "cell_type": "code",
      "metadata": {
        "id": "hHw_z8GOCwX_",
        "colab_type": "code",
        "colab": {}
      },
      "source": [
        "categories = ['alt.atheism', 'talk.religion.misc', 'comp.graphics', 'sci.space']\n",
        "remove = ('headers', 'footers', 'quotes')"
      ],
      "execution_count": 0,
      "outputs": []
    },
    {
      "cell_type": "code",
      "metadata": {
        "id": "ZuuBXEG6Cp73",
        "colab_type": "code",
        "colab": {
          "base_uri": "https://localhost:8080/",
          "height": 51
        },
        "outputId": "76c1325b-4b90-492e-cff1-e2870e0b4ed5"
      },
      "source": [
        "newsgroups_train = fetch_20newsgroups(subset='train', categories=categories,\n",
        "                                     remove=remove)\n",
        "newsgroups_test = fetch_20newsgroups(subset='test', categories=categories,\n",
        "                                    remove=remove)"
      ],
      "execution_count": 4,
      "outputs": [
        {
          "output_type": "stream",
          "text": [
            "Downloading 20news dataset. This may take a few minutes.\n",
            "Downloading dataset from https://ndownloader.figshare.com/files/5975967 (14 MB)\n"
          ],
          "name": "stderr"
        }
      ]
    },
    {
      "cell_type": "code",
      "metadata": {
        "id": "cgb70CNrDO8L",
        "colab_type": "code",
        "colab": {
          "base_uri": "https://localhost:8080/",
          "height": 34
        },
        "outputId": "fb8b9d61-998f-4bf4-cfe3-3b5f45f07af0"
      },
      "source": [
        "newsgroups_train.filenames.shape, newsgroups_train.target.shape"
      ],
      "execution_count": 6,
      "outputs": [
        {
          "output_type": "execute_result",
          "data": {
            "text/plain": [
              "((2034,), (2034,))"
            ]
          },
          "metadata": {
            "tags": []
          },
          "execution_count": 6
        }
      ]
    },
    {
      "cell_type": "code",
      "metadata": {
        "id": "_bmEaN8XDXBZ",
        "colab_type": "code",
        "colab": {
          "base_uri": "https://localhost:8080/",
          "height": 612
        },
        "outputId": "dd96729e-b006-493c-8a9a-967dc4c1d4bc"
      },
      "source": [
        "print('\\n'.join(newsgroups_train.data[:3]))"
      ],
      "execution_count": 7,
      "outputs": [
        {
          "output_type": "stream",
          "text": [
            "Hi,\n",
            "\n",
            "I've noticed that if you only save a model (with all your mapping planes\n",
            "positioned carefully) to a .3DS file that when you reload it after restarting\n",
            "3DS, they are given a default position and orientation.  But if you save\n",
            "to a .PRJ file their positions/orientation are preserved.  Does anyone\n",
            "know why this information is not stored in the .3DS file?  Nothing is\n",
            "explicitly said in the manual about saving texture rules in the .PRJ file. \n",
            "I'd like to be able to read the texture rule information, does anyone have \n",
            "the format for the .PRJ file?\n",
            "\n",
            "Is the .CEL file format available from somewhere?\n",
            "\n",
            "Rych\n",
            "\n",
            "\n",
            "Seems to be, barring evidence to the contrary, that Koresh was simply\n",
            "another deranged fanatic who thought it neccessary to take a whole bunch of\n",
            "folks with him, children and all, to satisfy his delusional mania. Jim\n",
            "Jones, circa 1993.\n",
            "\n",
            "\n",
            "Nope - fruitcakes like Koresh have been demonstrating such evil corruption\n",
            "for centuries.\n",
            "\n",
            " >In article <1993Apr19.020359.26996@sq.sq.com>, msb@sq.sq.com (Mark Brader) \n",
            "\n",
            "MB>                                                             So the\n",
            "MB> 1970 figure seems unlikely to actually be anything but a perijove.\n",
            "\n",
            "JG>Sorry, _perijoves_...I'm not used to talking this language.\n",
            "\n",
            "Couldn't we just say periapsis or apoapsis?\n",
            "\n",
            " \n"
          ],
          "name": "stdout"
        }
      ]
    },
    {
      "cell_type": "markdown",
      "metadata": {
        "id": "mz-6eANIDh2Y",
        "colab_type": "text"
      },
      "source": [
        "This is the Sci-Space"
      ]
    },
    {
      "cell_type": "code",
      "metadata": {
        "id": "ceIgSTqdDdh2",
        "colab_type": "code",
        "colab": {
          "base_uri": "https://localhost:8080/",
          "height": 34
        },
        "outputId": "3e5f4b0f-e5e1-4df0-ab9e-e48daab74530"
      },
      "source": [
        "np.array(newsgroups_train.target_names)[newsgroups_train.target[:3]]"
      ],
      "execution_count": 8,
      "outputs": [
        {
          "output_type": "execute_result",
          "data": {
            "text/plain": [
              "array(['comp.graphics', 'talk.religion.misc', 'sci.space'], dtype='<U18')"
            ]
          },
          "metadata": {
            "tags": []
          },
          "execution_count": 8
        }
      ]
    },
    {
      "cell_type": "markdown",
      "metadata": {
        "id": "jgki4uigDwk_",
        "colab_type": "text"
      },
      "source": [
        "The target attribute is the integer index of the category array"
      ]
    },
    {
      "cell_type": "code",
      "metadata": {
        "id": "l_VgpcUFDs1K",
        "colab_type": "code",
        "colab": {
          "base_uri": "https://localhost:8080/",
          "height": 34
        },
        "outputId": "355d5c68-b7eb-4590-d6b1-cb138e77625d"
      },
      "source": [
        "newsgroups_train.target[:10]"
      ],
      "execution_count": 9,
      "outputs": [
        {
          "output_type": "execute_result",
          "data": {
            "text/plain": [
              "array([1, 3, 2, 0, 2, 0, 2, 1, 2, 1])"
            ]
          },
          "metadata": {
            "tags": []
          },
          "execution_count": 9
        }
      ]
    },
    {
      "cell_type": "code",
      "metadata": {
        "id": "tyMIoEraD1cp",
        "colab_type": "code",
        "colab": {}
      },
      "source": [
        "num_topics, num_top_words = 6,8"
      ],
      "execution_count": 0,
      "outputs": []
    },
    {
      "cell_type": "markdown",
      "metadata": {
        "id": "t7cLgH9PD5_g",
        "colab_type": "text"
      },
      "source": [
        "## Stop words, stemming, lemmatization"
      ]
    },
    {
      "cell_type": "markdown",
      "metadata": {
        "id": "4HhsdFb6D8-p",
        "colab_type": "text"
      },
      "source": [
        "### Stop Words"
      ]
    },
    {
      "cell_type": "markdown",
      "metadata": {
        "id": "v9kQ0WiDEPwQ",
        "colab_type": "text"
      },
      "source": [
        "Stop words are 'extremely common words which would appear to be of little value in helping'. Web search engines generally do not use top lists"
      ]
    },
    {
      "cell_type": "markdown",
      "metadata": {
        "id": "HPb_dVPvEcCm",
        "colab_type": "text"
      },
      "source": [
        "#### Natural Language Toolkit, NLT"
      ]
    },
    {
      "cell_type": "code",
      "metadata": {
        "id": "v_76SuJTD4UI",
        "colab_type": "code",
        "colab": {}
      },
      "source": [
        "from sklearn.feature_extraction import stop_words"
      ],
      "execution_count": 0,
      "outputs": []
    },
    {
      "cell_type": "code",
      "metadata": {
        "id": "Zxq-PZ2oEjY3",
        "colab_type": "code",
        "colab": {
          "base_uri": "https://localhost:8080/",
          "height": 357
        },
        "outputId": "1debf02c-b1e2-4e0b-d73c-31fb03e577c4"
      },
      "source": [
        "sorted(list(stop_words.ENGLISH_STOP_WORDS))[:20]"
      ],
      "execution_count": 12,
      "outputs": [
        {
          "output_type": "execute_result",
          "data": {
            "text/plain": [
              "['a',\n",
              " 'about',\n",
              " 'above',\n",
              " 'across',\n",
              " 'after',\n",
              " 'afterwards',\n",
              " 'again',\n",
              " 'against',\n",
              " 'all',\n",
              " 'almost',\n",
              " 'alone',\n",
              " 'along',\n",
              " 'already',\n",
              " 'also',\n",
              " 'although',\n",
              " 'always',\n",
              " 'am',\n",
              " 'among',\n",
              " 'amongst',\n",
              " 'amoungst']"
            ]
          },
          "metadata": {
            "tags": []
          },
          "execution_count": 12
        }
      ]
    },
    {
      "cell_type": "markdown",
      "metadata": {
        "id": "YJMY51SDEoNm",
        "colab_type": "text"
      },
      "source": [
        "***There is no single universal list of stop words***"
      ]
    },
    {
      "cell_type": "markdown",
      "metadata": {
        "id": "XZlFl3jFEtgR",
        "colab_type": "text"
      },
      "source": [
        "#### Stemming and Lemmatization\n",
        "\n",
        "Are the below words the same:\n",
        "\n",
        "* Organize, Organizes, Organizing\n",
        "\n",
        "* Democracy, Democratic, Democratization\n",
        "\n",
        "Stemming and Lemmatization generate the root form of words\n",
        "\n",
        "Lemmatization uses the **rules** about a language. The resulting tokens are all actual words\n",
        "\n",
        "\"Stemming is the poor-man's lemmatization\" (Noah Smith, 2011)\n",
        "\n",
        "Stemming chops the ends off words. The result may not be actual words, but is faster"
      ]
    },
    {
      "cell_type": "code",
      "metadata": {
        "id": "lUMK15CgEmv5",
        "colab_type": "code",
        "colab": {
          "base_uri": "https://localhost:8080/",
          "height": 68
        },
        "outputId": "4747c176-3111-4a75-97f1-b0155661b329"
      },
      "source": [
        "import nltk\n",
        "nltk.download('wordnet')"
      ],
      "execution_count": 13,
      "outputs": [
        {
          "output_type": "stream",
          "text": [
            "[nltk_data] Downloading package wordnet to /root/nltk_data...\n",
            "[nltk_data]   Unzipping corpora/wordnet.zip.\n"
          ],
          "name": "stdout"
        },
        {
          "output_type": "execute_result",
          "data": {
            "text/plain": [
              "True"
            ]
          },
          "metadata": {
            "tags": []
          },
          "execution_count": 13
        }
      ]
    },
    {
      "cell_type": "code",
      "metadata": {
        "id": "T_f8JwgJFY5Z",
        "colab_type": "code",
        "colab": {}
      },
      "source": [
        "from nltk import stem"
      ],
      "execution_count": 0,
      "outputs": []
    },
    {
      "cell_type": "code",
      "metadata": {
        "id": "0CeSIeGlFbRO",
        "colab_type": "code",
        "colab": {}
      },
      "source": [
        "wnl = stem.WordNetLemmatizer()\n",
        "porter = stem.porter.PorterStemmer()"
      ],
      "execution_count": 0,
      "outputs": []
    },
    {
      "cell_type": "code",
      "metadata": {
        "id": "zlCvr1ofFfBs",
        "colab_type": "code",
        "colab": {}
      },
      "source": [
        "word_list = ['feet', 'foot', 'foots', 'footing']"
      ],
      "execution_count": 0,
      "outputs": []
    },
    {
      "cell_type": "code",
      "metadata": {
        "id": "mtsWTjwzFh1_",
        "colab_type": "code",
        "colab": {
          "base_uri": "https://localhost:8080/",
          "height": 34
        },
        "outputId": "f253d2c2-474e-40f3-9fe1-594734dc6ff2"
      },
      "source": [
        "[wnl.lemmatize(word) for word in word_list]"
      ],
      "execution_count": 17,
      "outputs": [
        {
          "output_type": "execute_result",
          "data": {
            "text/plain": [
              "['foot', 'foot', 'foot', 'footing']"
            ]
          },
          "metadata": {
            "tags": []
          },
          "execution_count": 17
        }
      ]
    },
    {
      "cell_type": "code",
      "metadata": {
        "id": "ZnWBM24mFkrg",
        "colab_type": "code",
        "colab": {
          "base_uri": "https://localhost:8080/",
          "height": 34
        },
        "outputId": "9ab8a9de-83cc-4470-e555-0cbd34a4ce43"
      },
      "source": [
        "[porter.stem(word) for word in word_list]"
      ],
      "execution_count": 18,
      "outputs": [
        {
          "output_type": "execute_result",
          "data": {
            "text/plain": [
              "['feet', 'foot', 'foot', 'foot']"
            ]
          },
          "metadata": {
            "tags": []
          },
          "execution_count": 18
        }
      ]
    },
    {
      "cell_type": "markdown",
      "metadata": {
        "id": "ZkRiLWo0FpjI",
        "colab_type": "text"
      },
      "source": [
        "Here we see the Stemmer cutting off the last three letters.\n",
        "\n",
        "Try it yourself:"
      ]
    },
    {
      "cell_type": "code",
      "metadata": {
        "id": "SC9i9BlrFnrY",
        "colab_type": "code",
        "colab": {}
      },
      "source": [
        "wl1 = ['fly', 'flies', 'flying']\n",
        "wl2 = ['organize', 'organizes', 'organizing']\n",
        "wl3 = ['universe', 'university']"
      ],
      "execution_count": 0,
      "outputs": []
    },
    {
      "cell_type": "code",
      "metadata": {
        "id": "EKLVn6JRF42w",
        "colab_type": "code",
        "colab": {
          "base_uri": "https://localhost:8080/",
          "height": 34
        },
        "outputId": "e65d59c8-f5aa-4e89-f6b6-8cddc8057a9f"
      },
      "source": [
        "[wnl.lemmatize(word) for word in wl1], [porter.stem(word) for word in wl1]"
      ],
      "execution_count": 20,
      "outputs": [
        {
          "output_type": "execute_result",
          "data": {
            "text/plain": [
              "(['fly', 'fly', 'flying'], ['fli', 'fli', 'fli'])"
            ]
          },
          "metadata": {
            "tags": []
          },
          "execution_count": 20
        }
      ]
    },
    {
      "cell_type": "code",
      "metadata": {
        "id": "sMyDjcCNF-Dw",
        "colab_type": "code",
        "colab": {
          "base_uri": "https://localhost:8080/",
          "height": 34
        },
        "outputId": "54aed37a-b5a8-41ff-fc63-4c51c92613a6"
      },
      "source": [
        "[wnl.lemmatize(word) for word in wl2], [porter.stem(word) for word in wl2]"
      ],
      "execution_count": 21,
      "outputs": [
        {
          "output_type": "execute_result",
          "data": {
            "text/plain": [
              "(['organize', 'organizes', 'organizing'], ['organ', 'organ', 'organ'])"
            ]
          },
          "metadata": {
            "tags": []
          },
          "execution_count": 21
        }
      ]
    },
    {
      "cell_type": "code",
      "metadata": {
        "id": "vN0YAcAmGBwm",
        "colab_type": "code",
        "colab": {
          "base_uri": "https://localhost:8080/",
          "height": 34
        },
        "outputId": "f1f970a7-99b9-406c-ed5e-97f01608c5e6"
      },
      "source": [
        "[wnl.lemmatize(word) for word in wl3], [porter.stem(word) for word in wl3]"
      ],
      "execution_count": 22,
      "outputs": [
        {
          "output_type": "execute_result",
          "data": {
            "text/plain": [
              "(['universe', 'university'], ['univers', 'univers'])"
            ]
          },
          "metadata": {
            "tags": []
          },
          "execution_count": 22
        }
      ]
    },
    {
      "cell_type": "markdown",
      "metadata": {
        "id": "Jtju63mqGTSz",
        "colab_type": "text"
      },
      "source": [
        "**Languages with more complex morphologies may show bigger benefits (more ways to express a word)**"
      ]
    },
    {
      "cell_type": "markdown",
      "metadata": {
        "id": "SKpaTGu8Gg4c",
        "colab_type": "text"
      },
      "source": [
        "## Spacy\n",
        "\n",
        "Stemming and lemmatization - implementation dependant\n",
        "\n",
        "Spacy: Modern and fast nlp library.\n",
        "\n",
        "!pip install -U spacy"
      ]
    },
    {
      "cell_type": "code",
      "metadata": {
        "id": "o8gr2FOJHA3u",
        "colab_type": "code",
        "colab": {}
      },
      "source": [
        "!pip install -U spacy"
      ],
      "execution_count": 0,
      "outputs": []
    },
    {
      "cell_type": "code",
      "metadata": {
        "id": "0-PknJDcGDmd",
        "colab_type": "code",
        "colab": {}
      },
      "source": [
        "import spacy"
      ],
      "execution_count": 0,
      "outputs": []
    },
    {
      "cell_type": "code",
      "metadata": {
        "id": "pekV4W_LG5lD",
        "colab_type": "code",
        "colab": {}
      },
      "source": [
        "from spacy.lemmatizer import Lemmatizer\n",
        "lemmatizer = Lemmatizer()"
      ],
      "execution_count": 0,
      "outputs": []
    },
    {
      "cell_type": "code",
      "metadata": {
        "id": "qoZK038aHMCd",
        "colab_type": "code",
        "colab": {
          "base_uri": "https://localhost:8080/",
          "height": 34
        },
        "outputId": "c4e727c3-3757-4f3e-fdb8-6036ae62adbc"
      },
      "source": [
        "[lemmatizer.lookup(word) for word in word_list]"
      ],
      "execution_count": 30,
      "outputs": [
        {
          "output_type": "execute_result",
          "data": {
            "text/plain": [
              "['feet', 'foot', 'foots', 'footing']"
            ]
          },
          "metadata": {
            "tags": []
          },
          "execution_count": 30
        }
      ]
    },
    {
      "cell_type": "markdown",
      "metadata": {
        "id": "Ke_kcA3rHT3f",
        "colab_type": "text"
      },
      "source": [
        "Spacy does not offer stemmer, since lemmatization is considered better (opinionated example)"
      ]
    },
    {
      "cell_type": "code",
      "metadata": {
        "id": "FnE-TALRHQYW",
        "colab_type": "code",
        "colab": {}
      },
      "source": [
        "nlp = spacy.load('en_core_web_sm')"
      ],
      "execution_count": 0,
      "outputs": []
    },
    {
      "cell_type": "code",
      "metadata": {
        "id": "cQxvfuuIHbfB",
        "colab_type": "code",
        "colab": {
          "base_uri": "https://localhost:8080/",
          "height": 357
        },
        "outputId": "caae1d0c-e653-43e6-eb2c-d2967463ffa1"
      },
      "source": [
        "sorted(list(nlp.Defaults.stop_words))[:20]"
      ],
      "execution_count": 33,
      "outputs": [
        {
          "output_type": "execute_result",
          "data": {
            "text/plain": [
              "[\"'d\",\n",
              " \"'ll\",\n",
              " \"'m\",\n",
              " \"'re\",\n",
              " \"'s\",\n",
              " \"'ve\",\n",
              " 'a',\n",
              " 'about',\n",
              " 'above',\n",
              " 'across',\n",
              " 'after',\n",
              " 'afterwards',\n",
              " 'again',\n",
              " 'against',\n",
              " 'all',\n",
              " 'almost',\n",
              " 'alone',\n",
              " 'along',\n",
              " 'already',\n",
              " 'also']"
            ]
          },
          "metadata": {
            "tags": []
          },
          "execution_count": 33
        }
      ]
    },
    {
      "cell_type": "markdown",
      "metadata": {
        "id": "SvE5cMoBHjYZ",
        "colab_type": "text"
      },
      "source": [
        "**Exercise What words appear in spacy but not sklearn?**\n",
        "\n",
        "Take two lists, find the difference"
      ]
    },
    {
      "cell_type": "code",
      "metadata": {
        "id": "NX9d_fNpHeoX",
        "colab_type": "code",
        "colab": {}
      },
      "source": [
        "sp = sorted(list(nlp.Defaults.stop_words))"
      ],
      "execution_count": 0,
      "outputs": []
    },
    {
      "cell_type": "code",
      "metadata": {
        "id": "eNuvaI_CHuj7",
        "colab_type": "code",
        "colab": {}
      },
      "source": [
        "sk = sorted(list(stop_words.ENGLISH_STOP_WORDS))"
      ],
      "execution_count": 0,
      "outputs": []
    },
    {
      "cell_type": "code",
      "metadata": {
        "id": "SLgBP3dgIKBR",
        "colab_type": "code",
        "colab": {
          "base_uri": "https://localhost:8080/",
          "height": 612
        },
        "outputId": "8677f68c-93c8-410f-ddd0-21f3c509997c"
      },
      "source": [
        "set(sp) - set(sk)"
      ],
      "execution_count": 38,
      "outputs": [
        {
          "output_type": "execute_result",
          "data": {
            "text/plain": [
              "{\"'d\",\n",
              " \"'ll\",\n",
              " \"'m\",\n",
              " \"'re\",\n",
              " \"'s\",\n",
              " \"'ve\",\n",
              " 'ca',\n",
              " 'did',\n",
              " 'does',\n",
              " 'doing',\n",
              " 'just',\n",
              " 'make',\n",
              " \"n't\",\n",
              " 'n‘t',\n",
              " 'n’t',\n",
              " 'quite',\n",
              " 'really',\n",
              " 'regarding',\n",
              " 'say',\n",
              " 'unless',\n",
              " 'used',\n",
              " 'using',\n",
              " 'various',\n",
              " '‘d',\n",
              " '‘ll',\n",
              " '‘m',\n",
              " '‘re',\n",
              " '‘s',\n",
              " '‘ve',\n",
              " '’d',\n",
              " '’ll',\n",
              " '’m',\n",
              " '’re',\n",
              " '’s',\n",
              " '’ve'}"
            ]
          },
          "metadata": {
            "tags": []
          },
          "execution_count": 38
        }
      ]
    },
    {
      "cell_type": "markdown",
      "metadata": {
        "id": "Tn7q3ICwIDhv",
        "colab_type": "text"
      },
      "source": [
        "**Exercise: Words in sklearn but not spacy**"
      ]
    },
    {
      "cell_type": "code",
      "metadata": {
        "id": "SBfCv1ZjH2Rh",
        "colab_type": "code",
        "colab": {
          "base_uri": "https://localhost:8080/",
          "height": 476
        },
        "outputId": "f6afdbbf-261d-483d-9f1b-436a3d3ed8f4"
      },
      "source": [
        "set(sk) - set(sp)"
      ],
      "execution_count": 37,
      "outputs": [
        {
          "output_type": "execute_result",
          "data": {
            "text/plain": [
              "{'amoungst',\n",
              " 'bill',\n",
              " 'cant',\n",
              " 'co',\n",
              " 'con',\n",
              " 'couldnt',\n",
              " 'cry',\n",
              " 'de',\n",
              " 'describe',\n",
              " 'detail',\n",
              " 'eg',\n",
              " 'etc',\n",
              " 'fill',\n",
              " 'find',\n",
              " 'fire',\n",
              " 'found',\n",
              " 'hasnt',\n",
              " 'ie',\n",
              " 'inc',\n",
              " 'interest',\n",
              " 'ltd',\n",
              " 'mill',\n",
              " 'sincere',\n",
              " 'system',\n",
              " 'thick',\n",
              " 'thin',\n",
              " 'un'}"
            ]
          },
          "metadata": {
            "tags": []
          },
          "execution_count": 37
        }
      ]
    },
    {
      "cell_type": "markdown",
      "metadata": {
        "id": "j33GEPe5IgeK",
        "colab_type": "text"
      },
      "source": [
        "# When to use them?\n",
        "\n",
        "Often will hurt your performance if **using deep learning**"
      ]
    },
    {
      "cell_type": "markdown",
      "metadata": {
        "id": "rqRuVjFnIw14",
        "colab_type": "text"
      },
      "source": [
        "Another apporach: **sub-word units**"
      ]
    },
    {
      "cell_type": "code",
      "metadata": {
        "id": "ywZtfSHfH8MI",
        "colab_type": "code",
        "colab": {}
      },
      "source": [
        ""
      ],
      "execution_count": 0,
      "outputs": []
    }
  ]
}